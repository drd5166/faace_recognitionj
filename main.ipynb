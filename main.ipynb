{
 "cells": [
  {
   "cell_type": "code",
   "execution_count": 2,
   "id": "186f4f03",
   "metadata": {},
   "outputs": [
    {
     "name": "stdout",
     "output_type": "stream",
     "text": [
      "4.11.0\n",
      "['BIF', 'BIF_create', 'BasicFaceRecognizer', 'EigenFaceRecognizer', 'EigenFaceRecognizer_create', 'FaceRecognizer', 'Facemark', 'FacemarkAAM', 'FacemarkKazemi', 'FacemarkLBF', 'FacemarkTrain', 'FisherFaceRecognizer', 'FisherFaceRecognizer_create', 'LBPHFaceRecognizer', 'LBPHFaceRecognizer_create', 'MACE', 'MACE_create', 'MACE_load', 'PredictCollector', 'StandardCollector', 'StandardCollector_create', '__doc__', '__file__', '__loader__', '__name__', '__package__', '__path__', '__spec__', '_native', 'createFacemarkAAM', 'createFacemarkKazemi', 'createFacemarkLBF', 'drawFacemarks', 'getFacesHAAR', 'loadDatasetList', 'loadFacePoints', 'loadTrainingData']\n"
     ]
    }
   ],
   "source": [
    "import cv2\n",
    "print(cv2.__version__)\n",
    "print(dir(cv2.face))\n"
   ]
  },
  {
   "cell_type": "code",
   "execution_count": 3,
   "id": "32527d7a",
   "metadata": {},
   "outputs": [
    {
     "name": "stdout",
     "output_type": "stream",
     "text": [
      "Collecting samples is completed....\n"
     ]
    }
   ],
   "source": [
    "import cv2\n",
    "\n",
    "def generate_dataset():\n",
    "    face_classifier = cv2.CascadeClassifier(\"haarcascade_frontalface_default.xml\")\n",
    "    \n",
    "    def face_cropped(img):\n",
    "        gray = cv2.cvtColor(img, cv2.COLOR_BGR2GRAY)\n",
    "        faces = face_classifier.detectMultiScale(gray, 1.3, 5)\n",
    "        if faces is None or len(faces) == 0:\n",
    "            return None\n",
    "        for (x, y, w, h) in faces:\n",
    "            cropped_face = img[y:y+h, x:x+w]\n",
    "            return cropped_face  # Return only the first face found\n",
    "    \n",
    "    cap = cv2.VideoCapture(1)\n",
    "    user_id = 1\n",
    "    img_id = 0\n",
    "\n",
    "    while True:\n",
    "        ret, frame = cap.read()\n",
    "        if not ret:\n",
    "            break\n",
    "        \n",
    "        cropped = face_cropped(frame)\n",
    "        if cropped is not None:\n",
    "            img_id += 1\n",
    "            face = cv2.resize(cropped, (200, 200))\n",
    "            face = cv2.cvtColor(face, cv2.COLOR_BGR2GRAY)\n",
    "            file_name_path = f\"data/user.{user_id}.{img_id}.jpg\"\n",
    "            cv2.imwrite(file_name_path, face)\n",
    "            cv2.putText(face, str(img_id), (50, 50), cv2.FONT_HERSHEY_COMPLEX, 1, (0, 255, 0), 2)\n",
    "            cv2.imshow(\"Cropped face\", face)\n",
    "        \n",
    "        if cv2.waitKey(1) == 13 or img_id == 200:  # Enter key to stop\n",
    "            break\n",
    "\n",
    "    cap.release()\n",
    "    cv2.destroyAllWindows()\n",
    "    print(\"Collecting samples is completed....\")\n",
    "\n",
    "generate_dataset()\n"
   ]
  },
  {
   "cell_type": "code",
   "execution_count": 4,
   "id": "e9a2d697",
   "metadata": {},
   "outputs": [],
   "source": [
    "import os\n",
    "import cv2\n",
    "from PIL import Image #pip install pillow\n",
    "import numpy as np    # pip install numpy\n",
    " \n",
    "def train_classifier(data_dir):\n",
    "    path = [os.path.join(data_dir, f) for f in os.listdir(data_dir)]\n",
    "     \n",
    "    faces = []\n",
    "    ids = []\n",
    "     \n",
    "    for image in path:\n",
    "        img = Image.open(image).convert('L')\n",
    "        imageNp = np.array(img, 'uint8')\n",
    "        id = int(os.path.split(image)[1].split(\".\")[1])\n",
    "         \n",
    "        faces.append(imageNp)\n",
    "        ids.append(id)\n",
    "         \n",
    "    ids = np.array(ids)\n",
    "     \n",
    "    # Train and save classifier\n",
    "    clf = cv2.face.LBPHFaceRecognizer_create()\n",
    "    clf.train(faces,ids)\n",
    "    clf.write(\"classifier.xml\")\n",
    "train_classifier(\"data\")"
   ]
  },
  {
   "cell_type": "code",
   "execution_count": 1,
   "id": "189eb066",
   "metadata": {},
   "outputs": [
    {
     "name": "stdout",
     "output_type": "stream",
     "text": [
      "[INFO] Starting real-time face recognition. Press 'Enter' to exit.\n",
      "[INFO] Exiting...\n"
     ]
    }
   ],
   "source": [
    "import cv2\n",
    "import numpy as np\n",
    "import os\n",
    "\n",
    "# Function to draw face recognition boundary\n",
    "def draw_boundary(img, classifier, scaleFactor, minNeighbors, color, clf):\n",
    "    try:\n",
    "        gray_img = cv2.cvtColor(img, cv2.COLOR_BGR2GRAY)\n",
    "    except Exception as e:\n",
    "        print(f\"[ERROR] cvtColor failed: {e}\")\n",
    "        return img\n",
    "\n",
    "    features = classifier.detectMultiScale(gray_img, scaleFactor, minNeighbors)\n",
    "\n",
    "    for (x, y, w, h) in features:\n",
    "        cv2.rectangle(img, (x, y), (x + w, y + h), color, 2)\n",
    "\n",
    "        try:\n",
    "            id, pred = clf.predict(gray_img[y:y + h, x:x + w])\n",
    "            confidence = int(100 * (1 - pred / 300))\n",
    "        except Exception as e:\n",
    "            print(f\"[ERROR] Prediction failed: {e}\")\n",
    "            continue\n",
    "\n",
    "        if confidence > 70:\n",
    "            name = \"Unknown\"\n",
    "            if id == 1:\n",
    "                name = \"Richa\"\n",
    "            elif id == 2:\n",
    "                name = \"Devanshi\"\n",
    "            cv2.putText(img, f\"{name} ({confidence}%)\", (x, y - 5),\n",
    "                        cv2.FONT_HERSHEY_SIMPLEX, 0.8, color, 1, cv2.LINE_AA)\n",
    "        else:\n",
    "            cv2.putText(img, \"UNKNOWN\", (x, y - 5),\n",
    "                        cv2.FONT_HERSHEY_SIMPLEX, 0.8, (0, 0, 255), 1, cv2.LINE_AA)\n",
    "\n",
    "    return img\n",
    "\n",
    "\n",
    "# Load Haar Cascade\n",
    "cascade_path = \"haarcascade_frontalface_default.xml\"\n",
    "if not os.path.exists(cascade_path):\n",
    "    raise FileNotFoundError(f\"[ERROR] Haar cascade file not found: {cascade_path}\")\n",
    "\n",
    "faceCascade = cv2.CascadeClassifier(cascade_path)\n",
    "\n",
    "# Load trained model\n",
    "model_path = \"classifier.xml\"\n",
    "if not os.path.exists(model_path):\n",
    "    raise FileNotFoundError(f\"[ERROR] Trained model file not found: {model_path}\")\n",
    "\n",
    "clf = cv2.face.LBPHFaceRecognizer_create()\n",
    "clf.read(model_path)\n",
    "\n",
    "# Open video capture (try 0 or 1 depending on your system)\n",
    "video_capture = cv2.VideoCapture(0)\n",
    "if not video_capture.isOpened():\n",
    "    raise RuntimeError(\"[ERROR] Could not open webcam. Try changing index to 1 or 2.\")\n",
    "\n",
    "print(\"[INFO] Starting real-time face recognition. Press 'Enter' to exit.\")\n",
    "\n",
    "# Real-time recognition loop\n",
    "while True:\n",
    "    ret, img = video_capture.read()\n",
    "    if not ret:\n",
    "        print(\"[WARNING] Frame not captured from webcam.\")\n",
    "        continue\n",
    "\n",
    "    img = draw_boundary(img, faceCascade, 1.3, 6, (255, 255, 255), clf)\n",
    "    cv2.imshow(\"Face Detection\", img)\n",
    "\n",
    "    if cv2.waitKey(1) == 13:  # Press Enter to exit\n",
    "        print(\"[INFO] Exiting...\")\n",
    "        break\n",
    "\n",
    "video_capture.release()\n",
    "cv2.destroyAllWindows()\n"
   ]
  },
  {
   "cell_type": "code",
   "execution_count": null,
   "id": "5e13c1db",
   "metadata": {},
   "outputs": [],
   "source": []
  }
 ],
 "metadata": {
  "kernelspec": {
   "display_name": "Python 3",
   "language": "python",
   "name": "python3"
  },
  "language_info": {
   "codemirror_mode": {
    "name": "ipython",
    "version": 3
   },
   "file_extension": ".py",
   "mimetype": "text/x-python",
   "name": "python",
   "nbconvert_exporter": "python",
   "pygments_lexer": "ipython3",
   "version": "3.13.2"
  }
 },
 "nbformat": 4,
 "nbformat_minor": 5
}
